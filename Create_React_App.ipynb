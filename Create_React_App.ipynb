{
  "nbformat": 4,
  "nbformat_minor": 0,
  "metadata": {
    "colab": {
      "provenance": [],
      "authorship_tag": "ABX9TyMosQSIn5vCCanbfZ04gerM",
      "include_colab_link": true
    },
    "kernelspec": {
      "name": "python3",
      "display_name": "Python 3"
    },
    "language_info": {
      "name": "python"
    }
  },
  "cells": [
    {
      "cell_type": "markdown",
      "metadata": {
        "id": "view-in-github",
        "colab_type": "text"
      },
      "source": [
        "<a href=\"https://colab.research.google.com/github/boysbytes/react-colab/blob/main/Create_React_App.ipynb\" target=\"_parent\"><img src=\"https://colab.research.google.com/assets/colab-badge.svg\" alt=\"Open In Colab\"/></a>"
      ]
    },
    {
      "cell_type": "markdown",
      "source": [
        "Set up"
      ],
      "metadata": {
        "id": "VO2s8IfSSDD6"
      }
    },
    {
      "cell_type": "code",
      "execution_count": null,
      "metadata": {
        "id": "FlJ5lwGu_gZI"
      },
      "outputs": [],
      "source": [
        "# Install Node.js (this might take a minute or two as it fetches packages)\n",
        "print(\"Starting Node.js installation...\")\n",
        "\n",
        "# 1. Fetch the NodeSource GPG key\n",
        "#    NodeSource provides up-to-date Node.js packages. This command fetches their\n",
        "#    public key to verify the integrity of the packages.\n",
        "!curl -fsSL https://deb.nodesource.com/setup_lts.x | sudo -E bash -\n",
        "\n",
        "# 2. Install Node.js\n",
        "#    'sudo apt-get install -y nodejs' installs Node.js and npm (Node Package Manager)\n",
        "#    '-y' automatically answers yes to prompts.\n",
        "!sudo apt-get install -y nodejs\n",
        "\n",
        "# Verify installation by checking versions\n",
        "print(\"\\n--- Verifying Node.js and npm versions ---\")\n",
        "!node -v\n",
        "!npm -v\n",
        "print(\"------------------------------------------\")\n",
        "\n",
        "print(\"\\nNode.js and npm installation complete. You now have the JavaScript runtime and package manager.\")"
      ]
    },
    {
      "cell_type": "markdown",
      "source": [
        "Create project directory and upload your .jsx file.\n",
        "\n",
        "> ⭐Modify the main project directory for new projects."
      ],
      "metadata": {
        "id": "fcOor2opAHhN"
      }
    },
    {
      "cell_type": "code",
      "source": [
        "from google.colab import files\n",
        "import os\n",
        "\n",
        "# Create main project directory\n",
        "print(\"Creating project directory 'my-markdown-converter'...\")\n",
        "!mkdir my-markdown-converter\n",
        "%cd my-markdown-converter\n",
        "\n",
        "# Create src directory where the App.jsx will live\n",
        "print(\"Creating 'src' directory...\")\n",
        "!mkdir src\n",
        "\n",
        "# --- IMPORTANT: Upload your MarkdownToHtmlApp.jsx file here ---\n",
        "print(\"\\n--- Please upload your MarkdownToHtmlApp.jsx file now ---\")\n",
        "uploaded = files.upload()\n",
        "\n",
        "# Get the name of the uploaded file\n",
        "uploaded_filename = list(uploaded.keys())[0]\n",
        "print(f\"File '{uploaded_filename}' uploaded successfully.\")\n",
        "\n",
        "# Rename and move the uploaded file to src/App.jsx\n",
        "target_path = \"src/App.jsx\"\n",
        "print(f\"Moving and renaming '{uploaded_filename}' to '{target_path}'...\")\n",
        "!mv \"{uploaded_filename}\" \"{target_path}\"\n",
        "\n",
        "print(\"\\nApp.jsx placed successfully.\")\n",
        "!ls -F src/ # Verify it's there"
      ],
      "metadata": {
        "id": "dCc7fGVAAGdx"
      },
      "execution_count": null,
      "outputs": []
    },
    {
      "cell_type": "markdown",
      "source": [
        "Create `package.json`.\n",
        "\n",
        "> ⭐Update dependencies for new projects."
      ],
      "metadata": {
        "id": "yOia2QftAYfB"
      }
    },
    {
      "cell_type": "code",
      "source": [
        "%%writefile package.json\n",
        "{\n",
        "  \"name\": \"colab-markdown-converter\",\n",
        "  \"private\": true,\n",
        "  \"version\": \"0.0.0\",\n",
        "  \"type\": \"module\",\n",
        "  \"scripts\": {\n",
        "    \"dev\": \"vite\",\n",
        "    \"build\": \"vite build\",\n",
        "    \"lint\": \"eslint . --ext js,jsx --report-unused-disable-directives --max-warnings 0\",\n",
        "    \"preview\": \"vite preview\"\n",
        "  },\n",
        "  \"dependencies\": {\n",
        "    \"lucide-react\": \"^0.395.0\",\n",
        "    \"marked\": \"^12.0.2\",\n",
        "    \"react\": \"^18.3.1\",\n",
        "    \"react-dom\": \"^18.3.1\"\n",
        "  },\n",
        "  \"devDependencies\": {\n",
        "    \"@types/react\": \"^18.3.3\",\n",
        "    \"@types/react-dom\": \"^18.3.0\",\n",
        "    \"@vitejs/plugin-react\": \"^4.3.1\",\n",
        "    \"autoprefixer\": \"^10.4.19\",\n",
        "    \"eslint\": \"^8.57.0\",\n",
        "    \"eslint-plugin-react\": \"^7.34.2\",\n",
        "    \"eslint-plugin-react-hooks\": \"^4.6.2\",\n",
        "    \"eslint-plugin-react-refresh\": \"^0.4.7\",\n",
        "    \"postcss\": \"^8.4.38\",\n",
        "    \"tailwindcss\": \"^3.4.4\",\n",
        "    \"vite\": \"^5.3.1\"\n",
        "  }\n",
        "}"
      ],
      "metadata": {
        "id": "9wFoQCWNAagL"
      },
      "execution_count": null,
      "outputs": []
    },
    {
      "cell_type": "markdown",
      "source": [
        "Create `index.html`"
      ],
      "metadata": {
        "id": "oEBgo4FAActb"
      }
    },
    {
      "cell_type": "code",
      "source": [
        "%%writefile index.html\n",
        "<!doctype html>\n",
        "<html lang=\"en\">\n",
        "  <head>\n",
        "    <meta charset=\"UTF-8\" />\n",
        "    <link rel=\"icon\" type=\"image/svg+xml\" href=\"/vite.svg\" />\n",
        "    <meta name=\"viewport\" content=\"width=device-width, initial-scale=1.0\" />\n",
        "    <title>Markdown to HTML Converter</title>\n",
        "  </head>\n",
        "  <body>\n",
        "    <div id=\"root\"></div>\n",
        "    <script type=\"module\" src=\"/src/main.jsx\"></script>\n",
        "  </body>\n",
        "</html>"
      ],
      "metadata": {
        "id": "6ljF7c2QAeVP"
      },
      "execution_count": null,
      "outputs": []
    },
    {
      "cell_type": "markdown",
      "source": [
        "Create `src/main.jsx`"
      ],
      "metadata": {
        "id": "LadQh8SZAfea"
      }
    },
    {
      "cell_type": "code",
      "source": [
        "%%writefile src/main.jsx\n",
        "import React from 'react';\n",
        "import ReactDOM from 'react-dom/client';\n",
        "import App from './App.jsx'; // Imports your component\n",
        "import './index.css';       // Imports Tailwind CSS\n",
        "\n",
        "ReactDOM.createRoot(document.getElementById('root')).render(\n",
        "  <React.StrictMode>\n",
        "    <App />\n",
        "  </React.StrictMode>,\n",
        ");"
      ],
      "metadata": {
        "id": "_-qklMI6AiQH"
      },
      "execution_count": null,
      "outputs": []
    },
    {
      "cell_type": "markdown",
      "source": [
        "Create `src/index.css`"
      ],
      "metadata": {
        "id": "Cb3mjiWbAjmo"
      }
    },
    {
      "cell_type": "code",
      "source": [
        "%%writefile src/index.css\n",
        "@tailwind base;\n",
        "@tailwind components;\n",
        "@tailwind utilities;"
      ],
      "metadata": {
        "id": "7m_0oYEwAlfH"
      },
      "execution_count": null,
      "outputs": []
    },
    {
      "cell_type": "markdown",
      "source": [
        "Create Tailwind CSS Configuration Files"
      ],
      "metadata": {
        "id": "AGwcAB70AoEQ"
      }
    },
    {
      "cell_type": "code",
      "source": [
        "%%writefile tailwind.config.js\n",
        "/** @type {import('tailwindcss').Config} */\n",
        "export default {\n",
        "  // This 'content' array tells Tailwind where to look for your utility classes.\n",
        "  // It must correctly point to all your source files (like your App.jsx).\n",
        "  content: [\n",
        "    \"./index.html\",\n",
        "    \"./src/**/*.{js,ts,jsx,tsx}\", // This should cover your App.jsx\n",
        "  ],\n",
        "  theme: {\n",
        "    extend: {},\n",
        "  },\n",
        "  plugins: [],\n",
        "}"
      ],
      "metadata": {
        "id": "_AlWKP9bAqUI"
      },
      "execution_count": null,
      "outputs": []
    },
    {
      "cell_type": "code",
      "source": [
        "%%writefile postcss.config.js\n",
        "export default {\n",
        "  plugins: {\n",
        "    tailwindcss: {}, // This is the plugin that processes Tailwind directives\n",
        "    autoprefixer: {}, // This adds vendor prefixes to your CSS\n",
        "  },\n",
        "}"
      ],
      "metadata": {
        "id": "En4A-PwDPoW4"
      },
      "execution_count": null,
      "outputs": []
    },
    {
      "cell_type": "markdown",
      "source": [
        "Create `vite.config.js`\n",
        "\n",
        "> ⭐Change `base` for new projects."
      ],
      "metadata": {
        "id": "S_OKLuwMAsLf"
      }
    },
    {
      "cell_type": "code",
      "source": [
        "%%writefile vite.config.js\n",
        "import { defineConfig } from 'vite'\n",
        "import react from '@vitejs/plugin-react'\n",
        "\n",
        "export default defineConfig({\n",
        "  plugins: [react()],\n",
        "  // This is crucial for GitHub Project Pages\n",
        "  base: '/cbk-markdown-to-html/', // Your repository name\n",
        "  build: {\n",
        "    outDir: 'docs' // Specify the output directory as 'docs'\n",
        "  }\n",
        "})"
      ],
      "metadata": {
        "id": "l6kkbynXAt2m"
      },
      "execution_count": null,
      "outputs": []
    },
    {
      "cell_type": "markdown",
      "source": [
        "Install project-specific dependencies"
      ],
      "metadata": {
        "id": "AvXS498HAwgs"
      }
    },
    {
      "cell_type": "code",
      "source": [
        "print(\"Installing project-specific dependencies (React, Marked, Lucide, Tailwind, Vite plugins)...\")\n",
        "!npm install\n",
        "print(\"\\nAll project dependencies installed.\")"
      ],
      "metadata": {
        "id": "3Xz5WN60Ayem"
      },
      "execution_count": null,
      "outputs": []
    },
    {
      "cell_type": "markdown",
      "source": [
        "Run the build command."
      ],
      "metadata": {
        "id": "PEjVYijfA1Xu"
      }
    },
    {
      "cell_type": "code",
      "source": [
        "print(\"Running the React build process...\")\n",
        "!npm run build\n",
        "\n",
        "print(\"\\nReact build process complete.\")\n",
        "print(\"\\nContents of the 'docs' folder:\")\n",
        "!ls -l docs"
      ],
      "metadata": {
        "id": "pncWvaJuA3iv"
      },
      "execution_count": null,
      "outputs": []
    },
    {
      "cell_type": "code",
      "source": [
        "print(\"--- Verifying the CONTENTS of your generated CSS file in dist/assets/ ---\")\n",
        "# Using a wildcard because the hash in the filename changes with each build\n",
        "!cat docs/assets/index-*.css\n",
        "print(\"---------------------------------------------------------------------\")"
      ],
      "metadata": {
        "id": "6G-MNGtVLnay"
      },
      "execution_count": null,
      "outputs": []
    },
    {
      "cell_type": "markdown",
      "source": [
        "Download the built output (`docs` folder)"
      ],
      "metadata": {
        "id": "47aAkJRcA49w"
      }
    },
    {
      "cell_type": "code",
      "source": [
        "from google.colab import files\n",
        "import os\n",
        "\n",
        "output_folder = \"docs\"\n",
        "\n",
        "if os.path.exists(output_folder):\n",
        "    print(f\"Zipping and downloading the '{output_folder}' folder...\")\n",
        "    zip_filename = f\"{output_folder}.zip\"\n",
        "    !zip -r {zip_filename} {output_folder}\n",
        "    files.download(zip_filename)\n",
        "    print(f\"\\n'{zip_filename}' downloaded successfully. Unzip it on your local machine.\")\n",
        "else:\n",
        "    print(f\"Error: The '{output_folder}' folder was not found. Please ensure the build step completed successfully.\")"
      ],
      "metadata": {
        "collapsed": true,
        "id": "DvTeDKdQA70H"
      },
      "execution_count": null,
      "outputs": []
    }
  ]
}